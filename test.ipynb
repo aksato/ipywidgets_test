{
 "cells": [
  {
   "cell_type": "code",
   "execution_count": 1,
   "source": [
    "import ipywidgets as widgets"
   ],
   "outputs": [],
   "metadata": {}
  },
  {
   "cell_type": "code",
   "execution_count": 2,
   "source": [
    "widgets.IntSlider()"
   ],
   "outputs": [
    {
     "output_type": "display_data",
     "data": {
      "text/plain": [
       "IntSlider(value=0)"
      ],
      "application/vnd.jupyter.widget-view+json": {
       "version_major": 2,
       "version_minor": 0,
       "model_id": "678ab88c385848c1bee0b4c5faac68b9"
      }
     },
     "metadata": {}
    }
   ],
   "metadata": {}
  },
  {
   "cell_type": "code",
   "execution_count": 3,
   "source": [
    "a = widgets.FloatText()\r\n",
    "b = widgets.FloatSlider()\r\n",
    "display(a,b)\r\n",
    "\r\n",
    "mylink = widgets.jslink((a, 'value'), (b, 'value'))"
   ],
   "outputs": [
    {
     "output_type": "display_data",
     "data": {
      "text/plain": [
       "FloatText(value=0.0)"
      ],
      "application/vnd.jupyter.widget-view+json": {
       "version_major": 2,
       "version_minor": 0,
       "model_id": "610a255dd0a746a99eba7989107beec6"
      }
     },
     "metadata": {}
    },
    {
     "output_type": "display_data",
     "data": {
      "text/plain": [
       "FloatSlider(value=0.0)"
      ],
      "application/vnd.jupyter.widget-view+json": {
       "version_major": 2,
       "version_minor": 0,
       "model_id": "d88b80d89be0498ea273332f642d358f"
      }
     },
     "metadata": {}
    }
   ],
   "metadata": {}
  }
 ],
 "metadata": {
  "orig_nbformat": 4,
  "language_info": {
   "name": "python",
   "version": "3.8.3",
   "mimetype": "text/x-python",
   "codemirror_mode": {
    "name": "ipython",
    "version": 3
   },
   "pygments_lexer": "ipython3",
   "nbconvert_exporter": "python",
   "file_extension": ".py"
  },
  "kernelspec": {
   "name": "python3",
   "display_name": "Python 3.8.3 64-bit"
  },
  "interpreter": {
   "hash": "a27b33376c414c1bd6276de3fe2bb3d8a7c16323530b879c6acd06d665140ee5"
  }
 },
 "nbformat": 4,
 "nbformat_minor": 2
}